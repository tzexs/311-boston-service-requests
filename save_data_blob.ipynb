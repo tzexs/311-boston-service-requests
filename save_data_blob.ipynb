{
 "cells": [
  {
   "cell_type": "markdown",
   "metadata": {},
   "source": [
    "<h2> Importing Libraries <h2>"
   ]
  },
  {
   "cell_type": "code",
   "execution_count": 1,
   "metadata": {},
   "outputs": [
    {
     "data": {
      "text/plain": [
       "True"
      ]
     },
     "execution_count": 1,
     "metadata": {},
     "output_type": "execute_result"
    }
   ],
   "source": [
    "import os\n",
    "from dotenv import load_dotenv\n",
    "import urllib.request\n",
    "from azure.identity import DefaultAzureCredential\n",
    "from azure.storage.blob import BlobServiceClient\n",
    "\n",
    "load_dotenv()"
   ]
  },
  {
   "cell_type": "markdown",
   "metadata": {},
   "source": [
    "<h2> Creating a folder and extracting data <h2>"
   ]
  },
  {
   "cell_type": "code",
   "execution_count": 8,
   "metadata": {},
   "outputs": [],
   "source": [
    "if not os.path.exists('data'):\n",
    "    os.makedirs('data')"
   ]
  },
  {
   "cell_type": "code",
   "execution_count": 4,
   "metadata": {},
   "outputs": [],
   "source": [
    "def extract_data(url, filename):\n",
    "    urllib.request.urlretrieve(url, filename)"
   ]
  },
  {
   "cell_type": "code",
   "execution_count": 9,
   "metadata": {},
   "outputs": [],
   "source": [
    "extract_data(\"https://data.boston.gov/dataset/311-service-requests/resource/c9509ab4-6f6d-4b97-979a-0cf2a10c922b\", \"data/data_2015.csv\")\n",
    "extract_data(\"https://data.boston.gov/dataset/311-service-requests/resource/b7ea6b1b-3ca4-4c5b-9713-6dc1db52379a\", \"data/data_2016.csv\")\n",
    "extract_data(\"https://data.boston.gov/dataset/311-service-requests/resource/30022137-709d-465e-baae-ca155b51927d\", \"data/data_2017.csv\")\n",
    "extract_data(\"https://data.boston.gov/dataset/311-service-requests/resource/2be28d90-3a90-4af1-a3f6-f28c1e25880a\", \"data/data_2018.csv\")\n",
    "extract_data(\"https://data.boston.gov/dataset/311-service-requests/resource/ea2e4696-4a2d-429c-9807-d02eb92e0222\", \"data/data_2019.csv\")\n",
    "extract_data(\"https://data.boston.gov/dataset/311-service-requests/resource/6ff6a6fd-3141-4440-a880-6f60a37fe789\", \"data/data_2020.csv\")"
   ]
  },
  {
   "cell_type": "markdown",
   "metadata": {},
   "source": [
    "<h2> Compacting Data <h2>"
   ]
  },
  {
   "cell_type": "code",
   "execution_count": 10,
   "metadata": {},
   "outputs": [],
   "source": [
    "def zip_directory(path, filename):\n",
    "    shutil.make_archive(filename, \"zip\", path)"
   ]
  },
  {
   "cell_type": "code",
   "execution_count": 11,
   "metadata": {},
   "outputs": [],
   "source": [
    "zip_directory(\"data\", \"data_boston\")"
   ]
  },
  {
   "cell_type": "markdown",
   "metadata": {},
   "source": [
    "<h2> Connecting to the Storage Account"
   ]
  },
  {
   "cell_type": "code",
   "execution_count": 15,
   "metadata": {},
   "outputs": [],
   "source": [
    "def get_blob_service_client_account_key():\n",
    "\n",
    "    storage_account_name = os.getenv(\"STORAGE_ACCOUNT_NAME\")\n",
    "    storage_account_key = os.getenv(\"STORAGE_ACCOUNT_KEY\")\n",
    "   \n",
    "    account_url = f\"https://{storage_account_name}.blob.core.windows.net\"\n",
    "    \n",
    "    # Create the BlobServiceClient object\n",
    "    blob_service_client = BlobServiceClient(account_url, credential=storage_account_key)\n",
    "\n",
    "    return blob_service_client"
   ]
  },
  {
   "cell_type": "code",
   "execution_count": 16,
   "metadata": {},
   "outputs": [],
   "source": [
    "blob_service_client = get_blob_service_client_account_key()"
   ]
  },
  {
   "cell_type": "markdown",
   "metadata": {},
   "source": [
    "<h2> Uploading zipped file to Blob Storage"
   ]
  },
  {
   "cell_type": "code",
   "execution_count": 25,
   "metadata": {},
   "outputs": [],
   "source": [
    "def upload_blob_file(blob_service_client: BlobServiceClient,  filepath, filename):\n",
    "    container_name = os.getenv(\"BLOB_CONTAINER_NAME\")\n",
    "    container_client = blob_service_client.get_container_client(container=container_name)\n",
    "\n",
    "    with open(file=filepath, mode=\"rb\") as data:\n",
    "        blob_client = container_client.upload_blob(name=filename, data=data, overwrite=True)"
   ]
  },
  {
   "cell_type": "code",
   "execution_count": 26,
   "metadata": {},
   "outputs": [],
   "source": [
    "upload_blob_file(blob_service_client, \"data_boston.zip\", \"dados_boston.zip\")"
   ]
  }
 ],
 "metadata": {
  "kernelspec": {
   "display_name": "Python 3",
   "language": "python",
   "name": "python3"
  },
  "language_info": {
   "codemirror_mode": {
    "name": "ipython",
    "version": 3
   },
   "file_extension": ".py",
   "mimetype": "text/x-python",
   "name": "python",
   "nbconvert_exporter": "python",
   "pygments_lexer": "ipython3",
   "version": "3.12.2"
  }
 },
 "nbformat": 4,
 "nbformat_minor": 2
}
